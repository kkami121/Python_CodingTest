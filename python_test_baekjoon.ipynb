{
 "cells": [
  {
   "cell_type": "markdown",
   "id": "eda9ed4c",
   "metadata": {},
   "source": [
    "# (백준 2153) 초콜릿 자르기"
   ]
  },
  {
   "cell_type": "code",
   "execution_count": 106,
   "id": "332b558d",
   "metadata": {},
   "outputs": [
    {
     "name": "stdout",
     "output_type": "stream",
     "text": [
      "5 1\n",
      "4\n"
     ]
    }
   ],
   "source": [
    "n, m = map(int, input().split())\n",
    "print((n-1) + (m-1)*n)"
   ]
  },
  {
   "cell_type": "markdown",
   "id": "ba09df17",
   "metadata": {},
   "source": [
    "# (백준 10699) 현재 날짜 출력"
   ]
  },
  {
   "cell_type": "code",
   "execution_count": 43,
   "id": "101183a4",
   "metadata": {},
   "outputs": [
    {
     "data": {
      "text/plain": [
       "'2022/06/19 17:30:19'"
      ]
     },
     "execution_count": 43,
     "metadata": {},
     "output_type": "execute_result"
    }
   ],
   "source": [
    "from datetime import datetime\n",
    "\n",
    "datetime.today().strftime(\"%Y/%m/%d %H:%M:%S\")"
   ]
  },
  {
   "cell_type": "markdown",
   "id": "7a2f1a62",
   "metadata": {},
   "source": [
    "# (백준 2525) 오븐 시계"
   ]
  },
  {
   "cell_type": "code",
   "execution_count": 44,
   "id": "195f3e37",
   "metadata": {},
   "outputs": [
    {
     "name": "stdout",
     "output_type": "stream",
     "text": [
      "14 30 30\n",
      "15 0\n"
     ]
    }
   ],
   "source": [
    "a, b, c = map(int, input().split()) # a : 시작 시, b : 시작 분, c : 소요 분\n",
    "\n",
    "a += c // 60 # 60으로 나눈 몫을 추가 = 소요 시를 추가\n",
    "b += c % 60 # 60으로 나눈 나머지 추가 = 소요 분을 추가\n",
    "\n",
    "if a >= 24:\n",
    "    a -= 24\n",
    "\n",
    "if b >= 60:\n",
    "    b -= 60\n",
    "    a += 1\n",
    "\n",
    "print(a, b)"
   ]
  },
  {
   "cell_type": "markdown",
   "id": "062606a8",
   "metadata": {},
   "source": [
    "# (백준 2914) 저작권"
   ]
  },
  {
   "cell_type": "code",
   "execution_count": 45,
   "id": "d136ebe6",
   "metadata": {},
   "outputs": [
    {
     "name": "stdout",
     "output_type": "stream",
     "text": [
      "34 34\n",
      "1123\n"
     ]
    }
   ],
   "source": [
    "a , i = map(int, input().split()) # a : 앨범에 수록된 곡의 개수 , i : 평균값(1개의 앨범에 포함된 저작권이 있는 멜로디의 평균값)\n",
    "\n",
    "print((i - 1) * a + 1)"
   ]
  },
  {
   "cell_type": "markdown",
   "id": "77cde64b",
   "metadata": {},
   "source": [
    "# (백준 2675) 문자열 반복"
   ]
  },
  {
   "cell_type": "code",
   "execution_count": 46,
   "id": "b3de0e51",
   "metadata": {},
   "outputs": [
    {
     "name": "stdout",
     "output_type": "stream",
     "text": [
      "2 abc\n",
      "aabbcc\n"
     ]
    }
   ],
   "source": [
    "a, b = input().split()\n",
    "text = \"\"\n",
    "\n",
    "for i in b:\n",
    "    text += int(a) * i\n",
    "\n",
    "print(text)    "
   ]
  },
  {
   "cell_type": "markdown",
   "id": "1ad8a776",
   "metadata": {},
   "source": [
    "# (백준 9498) 시험 성적"
   ]
  },
  {
   "cell_type": "code",
   "execution_count": 47,
   "id": "476bab6c",
   "metadata": {},
   "outputs": [
    {
     "name": "stdout",
     "output_type": "stream",
     "text": [
      "50\n",
      "F\n"
     ]
    }
   ],
   "source": [
    "a = int(input())\n",
    "\n",
    "if a >= 90:\n",
    "    print(\"A\")\n",
    "elif a < 90 and a >= 80:\n",
    "    print(\"B\")\n",
    "elif a < 80 and a >= 70:\n",
    "    print(\"C\")\n",
    "elif a < 70 and a >= 60:\n",
    "    print(\"D\")\n",
    "else:\n",
    "    print(\"F\")"
   ]
  },
  {
   "cell_type": "markdown",
   "id": "4fae9e17",
   "metadata": {},
   "source": [
    "# (백준 10817) 세 정수 중 두 번째로 큰 정수"
   ]
  },
  {
   "cell_type": "code",
   "execution_count": 49,
   "id": "a728c1e1",
   "metadata": {},
   "outputs": [
    {
     "name": "stdout",
     "output_type": "stream",
     "text": [
      "100 200 300\n",
      "200\n"
     ]
    }
   ],
   "source": [
    "num_list = list(map(int, input().split()))\n",
    "num_list.sort()\n",
    "print(num_list[1])"
   ]
  },
  {
   "cell_type": "markdown",
   "id": "567d2509",
   "metadata": {},
   "source": [
    "# (백준 11643) 소인수분해"
   ]
  },
  {
   "cell_type": "code",
   "execution_count": 54,
   "id": "056e9fb2",
   "metadata": {},
   "outputs": [
    {
     "name": "stdout",
     "output_type": "stream",
     "text": [
      "24\n",
      "2\n",
      "2\n",
      "2\n",
      "3\n"
     ]
    }
   ],
   "source": [
    "n = int(input())\n",
    "d = 2\n",
    "\n",
    "while(n != 1):\n",
    "    if n % d != 0:\n",
    "        d += 1\n",
    "    else:\n",
    "        n //= d\n",
    "        print(d)\n"
   ]
  },
  {
   "cell_type": "markdown",
   "id": "50f16a75",
   "metadata": {},
   "source": [
    "# (백준 1789) 수들의 합 - 서로 다른 N개의 자연수의 합이 S일 때, N의 최대값"
   ]
  },
  {
   "cell_type": "code",
   "execution_count": 62,
   "id": "d35b6347",
   "metadata": {},
   "outputs": [
    {
     "name": "stdout",
     "output_type": "stream",
     "text": [
      "200\n",
      "19\n"
     ]
    }
   ],
   "source": [
    "# 1부터 n까지 합이 S를 넘지 않도록 하는 n\n",
    "s = int(input())\n",
    "n = 1\n",
    "\n",
    "while(n * (n + 1) / 2) <= s: # 1부터 N까지 합\n",
    "    n += 1\n",
    "print(n-1) #잘 모르겠다...."
   ]
  },
  {
   "cell_type": "markdown",
   "id": "e6bd93f5",
   "metadata": {},
   "source": [
    "# (백준 2753) 윤년"
   ]
  },
  {
   "cell_type": "code",
   "execution_count": 66,
   "id": "3d215bd2",
   "metadata": {},
   "outputs": [
    {
     "name": "stdout",
     "output_type": "stream",
     "text": [
      "2000\n",
      "1\n"
     ]
    }
   ],
   "source": [
    "def leap_year(n):\n",
    "    if n % 4 == 0 and n % 100 != 0 or n % 400 == 0:\n",
    "        return 1\n",
    "    else:\n",
    "        return 0\n",
    "    \n",
    "n = int(input())\n",
    "\n",
    "print(leap_year(n))\n",
    "    "
   ]
  },
  {
   "cell_type": "markdown",
   "id": "f8e5fa10",
   "metadata": {},
   "source": [
    "# (백준 10039) 평균 점수 - 40미만 학생은 보충수업을 듣고 40점으로 인정 후 전체 평균"
   ]
  },
  {
   "cell_type": "code",
   "execution_count": 75,
   "id": "44278664",
   "metadata": {},
   "outputs": [
    {
     "name": "stdout",
     "output_type": "stream",
     "text": [
      "10 65 100 30 95\n",
      "40\n",
      "65\n",
      "100\n",
      "40\n",
      "95\n",
      "68.0\n"
     ]
    }
   ],
   "source": [
    "n_list = list(map(int, input().split()))\n",
    "n = 0\n",
    "for i in n_list:\n",
    "    if i < 40:\n",
    "        i = 40\n",
    "    n += i\n",
    "\n",
    "avg = n / len(n_list)\n",
    "print(avg)"
   ]
  },
  {
   "cell_type": "markdown",
   "id": "310dcd2e",
   "metadata": {},
   "source": [
    "# (백준 1934) 최소공배수"
   ]
  },
  {
   "cell_type": "code",
   "execution_count": 84,
   "id": "bfbdcb9b",
   "metadata": {},
   "outputs": [
    {
     "name": "stdout",
     "output_type": "stream",
     "text": [
      "6 15\n",
      "최대 공약수 :  3\n",
      "최대 공배수 :  30\n"
     ]
    }
   ],
   "source": [
    "# 최소 공배수 = (a * b) / 최대공약수\n",
    "\n",
    "a, b = map(int, input().split())\n",
    "\n",
    "def gcd(a, b): #최대공약수\n",
    "    while(b != 0):\n",
    "        r = a % b\n",
    "        a = b\n",
    "        b = r\n",
    "    return a\n",
    "\n",
    "lcm = (a * b) // gcd(a, b)\n",
    "\n",
    "print(\"최대 공약수 : \" , gcd(a, b))\n",
    "print(\"최대 공배수 : \", lcm)"
   ]
  },
  {
   "cell_type": "markdown",
   "id": "6a79680a",
   "metadata": {},
   "source": [
    "# (백준 2480) 주사위 세개\n",
    " - 같은 눈 3개가 나오면 10,000원 + 같은 눈 * 1,000원\n",
    " - 같은 눈 2개가 나오면 1,000원 + 같은 눈 * 100원\n",
    " - 모두 다른 눈이 나오는 경우 가장 큰 눈 * 100원"
   ]
  },
  {
   "cell_type": "code",
   "execution_count": 80,
   "id": "2b6f4bdd",
   "metadata": {},
   "outputs": [
    {
     "name": "stdout",
     "output_type": "stream",
     "text": [
      "3 3 6\n",
      "1300\n"
     ]
    }
   ],
   "source": [
    "a, b, c = map(int, input().split())\n",
    "result = 0\n",
    "if a == b == c:\n",
    "    result = 10000 + a * 1000\n",
    "elif a == b:\n",
    "    result = 1000 + a * 100\n",
    "elif b == c:\n",
    "    result = 1000 + b * 100\n",
    "elif a == c: \n",
    "    result = 1000 + ㅊ * 100\n",
    "else:\n",
    "    result = 100 * max(a, b, c)\n",
    "\n",
    "print(result)"
   ]
  },
  {
   "cell_type": "markdown",
   "id": "941958c2",
   "metadata": {},
   "source": [
    "# (백준 2754) 학점 계산"
   ]
  },
  {
   "cell_type": "code",
   "execution_count": 81,
   "id": "34a148fb",
   "metadata": {},
   "outputs": [
    {
     "name": "stdout",
     "output_type": "stream",
     "text": [
      "A+\n",
      "4.3\n"
     ]
    }
   ],
   "source": [
    "dic = {'A+':'4.3', 'A0':'4.0', 'A-':'3.7',\n",
    "       'B+':'3.3', 'B0':'3.0', 'B-':'2.7',\n",
    "       'C+':'2.3', 'C0':'2.0', 'C-':'1.7',\n",
    "       'D+':'1.3', 'D0':'1.0', 'D-':'0.7',\n",
    "       'F':'0.0'}\n",
    "grade = input()\n",
    "print(dic[grade])"
   ]
  },
  {
   "cell_type": "markdown",
   "id": "6d52e3f7",
   "metadata": {},
   "source": [
    "# (백준 4796) 캠핑\n",
    " - a : b일 중 캠핑장을 이용할 수 있는 날짜\n",
    " - b : 영업일\n",
    " - c : 주어진 휴가\n",
    " - 총 며칠을 캠핑장에서 휴가를 보낼 수 있는지 구하는 프로그램"
   ]
  },
  {
   "cell_type": "code",
   "execution_count": 85,
   "id": "251a9b5d",
   "metadata": {},
   "outputs": [
    {
     "name": "stdout",
     "output_type": "stream",
     "text": [
      "5 8 20\n",
      "14\n"
     ]
    }
   ],
   "source": [
    "a, b, c = map(int, input().split())\n",
    "\n",
    "midle = c // b\n",
    "add_day = c % b\n",
    "\n",
    "result = (a * midle) + add_day\n",
    "\n",
    "print(result)"
   ]
  },
  {
   "cell_type": "markdown",
   "id": "24334223",
   "metadata": {},
   "source": [
    "# (백준 1449) 수리공 항승\n",
    " - 물이 새는 파이프 구멍의 개수와 테이프의 길이, 물이 새는 위치가 주어질 때\n",
    " - 좌우로 0.5m를 메우면 물이 새는 것을 막을 수 있다.\n",
    " - 물이 새는 파이프 구멍을 막기 위한 테이프의 개수를 구하시오."
   ]
  },
  {
   "cell_type": "code",
   "execution_count": 108,
   "id": "f6ba460c",
   "metadata": {},
   "outputs": [
    {
     "name": "stdout",
     "output_type": "stream",
     "text": [
      "4 2\n",
      "1 2 100 101\n",
      "range(1, 3)\n",
      "range(100, 102)\n",
      "2\n"
     ]
    }
   ],
   "source": [
    "# 1449번 수리공 항승\n",
    "\n",
    "# 입력값 받기\n",
    "n, l = map(int, input().split()) # n : 물이 새는 위치 개수, L : 테이프이 길이\n",
    "data = list(map(int, input().split())) # 물이 새는 위치\n",
    "\n",
    "# 물이 새는 위치 오름차순 정렬\n",
    "data.sort()\n",
    "\n",
    "# 테이프를 처음 붙이는 시작지점\n",
    "start = data[0]\n",
    "# 필요한 테이프의 개수\n",
    "count = 1\n",
    "\n",
    "# 물이 새는 곳의 위치를 차례대로 받으면서\n",
    "for location in data[1:]:\n",
    "\n",
    "  # 테이프를 붙이는 범위 내에 물이 새는 곳의 위치가 있다면\n",
    "    if location in range(start, start+l): # 물이 새는 곳의 위치에 입력 받은 l을 더해 범위를 설정 (숫자 1일 아닌 변수 l)\n",
    "    # 기존 테이프 사용\n",
    "        continue\n",
    "  # 기존의 테이프로 붙이지 못한다면\n",
    "    else:\n",
    "        # 새 테이프를 사용하고 테이프 개수 추가\n",
    "        start = location\n",
    "        count += 1\n",
    "\n",
    "# 필요한 테이프의 개수 출력\n",
    "print(count)"
   ]
  },
  {
   "cell_type": "markdown",
   "id": "132782d9",
   "metadata": {},
   "source": [
    "# (백준 11047) 동전  \n",
    " - 동전의 개수와 각 동전의 가치가 주어지고 원하는 가치를 얻기 위해 최소로 사용되는 동전의 개수를 구하시오\n"
   ]
  },
  {
   "cell_type": "code",
   "execution_count": 95,
   "id": "fa2e3915",
   "metadata": {},
   "outputs": [
    {
     "name": "stdout",
     "output_type": "stream",
     "text": [
      "10 0\n",
      "1\n",
      "5\n",
      "10\n",
      "50\n",
      "100\n",
      "500\n",
      "1000\n",
      "5000\n",
      "10000\n",
      "50000\n",
      "0\n"
     ]
    }
   ],
   "source": [
    "n, k = map(int, input().split()) # 입력\n",
    "coin_list = []\n",
    "result = 0\n",
    "for i in range(n): # list로 하나씩 입력 받기\n",
    "    coin_list.append(int(input()))\n",
    "    \n",
    "coin_list.sort(reverse = True) # 큰 수 부터 적용하면서 k가 더 큰 수를 나눌 수 있도록 거꾸로 \n",
    "\n",
    "for i in coin_list:\n",
    "    if k >= i :\n",
    "        result += k // i\n",
    "        k %= i\n",
    "print(result)"
   ]
  },
  {
   "cell_type": "markdown",
   "id": "4fb7bb1c",
   "metadata": {},
   "source": [
    "# (백준 1931) 회의실 배정\n",
    " - 한 개의 회이실에서 N개의 회의를 진행 할 때 주어진 회의 시간을 통해 회의가 겹치지 않으면서 회의실을 사용할 수 있는 최대 개수를 구하시오."
   ]
  },
  {
   "cell_type": "code",
   "execution_count": 32,
   "id": "d9ea9ce2",
   "metadata": {},
   "outputs": [
    {
     "name": "stdout",
     "output_type": "stream",
     "text": [
      "4 \n",
      "1 4\n",
      "2 2\n",
      "2 4\n",
      "3 6\n",
      "[[1, 4], [2, 2], [2, 4], [3, 6]]\n",
      "1\n"
     ]
    }
   ],
   "source": [
    "n = int(input())\n",
    "\n",
    "meeting_list = []\n",
    "\n",
    "for i in range(n):\n",
    "    first, second = map(int, input().split())\n",
    "    meeting_list.append([first, second])\n",
    "\n",
    "# 앞 뒤를 기준으로 정렬을 하는 것 자체가 시간이 가장 적은 회의를 가장 앞으로 가져옴 따로 쓰면 정렬 후 다시 정렬 즉, 따로따로 \n",
    "meeting_list = sorted(meeting_list, key = lambda a : a[0]) # 앞 숫자를 기준으로 정렬\n",
    "meeting_list = sorted(meeting_list, key = lambda a : a[1]) # 뒤 숫자를 기준으로 다시 정렬\n",
    "\n",
    "print(meeting_list)\n",
    "\n",
    "count = 0\n",
    "end_meeting = 0 \n",
    "\n",
    "for i in range(n):\n",
    "    if meeting_list[i][0] >= end_meeting:\n",
    "        count += 1\n",
    "        end_meeting = meeting_list[i][1]\n",
    "print(count)"
   ]
  },
  {
   "cell_type": "code",
   "execution_count": 33,
   "id": "bf1b3768",
   "metadata": {},
   "outputs": [
    {
     "name": "stdout",
     "output_type": "stream",
     "text": [
      "4\n",
      "1 4\n",
      "2 2\n",
      "2 4\n",
      "3 6\n",
      "[[2, 2], [1, 4], [2, 4], [3, 6]]\n",
      "2\n"
     ]
    }
   ],
   "source": [
    "# 코드 정리 풀이\n",
    "n = int(input())\n",
    "time = sorted([list(map(int, input().split())) for _ in range(n)], key=lambda x:(x[1], x[0])) # 같이 쓰면 뒤로 정렬하면서 앞으로 정렬을 동시에 진행\n",
    "print(time)\n",
    "ans = end = 0\n",
    "for s, e in time:\n",
    "    if s >= end:\n",
    "        ans += 1\n",
    "        end = e\n",
    "print(ans)"
   ]
  },
  {
   "cell_type": "markdown",
   "id": "033bddb2",
   "metadata": {},
   "source": [
    "# (백준 2501) 약수 구하기\n",
    " - n : 약수를 구할 수\n",
    " - k : 구한 약수 중 k번째 약수"
   ]
  },
  {
   "cell_type": "code",
   "execution_count": 15,
   "id": "79cfa7da",
   "metadata": {},
   "outputs": [
    {
     "name": "stdout",
     "output_type": "stream",
     "text": [
      "6 3\n",
      "3\n"
     ]
    }
   ],
   "source": [
    "n, k = map(int, input().split())\n",
    "\n",
    "measure_list = []\n",
    "for i in range(1, n + 1):\n",
    "    if(n % i == 0):\n",
    "        measure_list.append(i)\n",
    "\n",
    "measure_list.sort()\n",
    "if (len(measure_list) < k): # 약수의 개수 보다 많은 k개를 입력할 경우 0을 출력\n",
    "    print(0)\n",
    "else:\n",
    "    print(measure_list[k-1])\n",
    "        "
   ]
  },
  {
   "cell_type": "markdown",
   "id": "51eba6e8",
   "metadata": {},
   "source": [
    "# (백준 3460) 이진수 "
   ]
  },
  {
   "cell_type": "code",
   "execution_count": 19,
   "id": "84c80f6d",
   "metadata": {},
   "outputs": [
    {
     "name": "stdout",
     "output_type": "stream",
     "text": [
      "1\n",
      "13\n",
      "0 2 3 "
     ]
    }
   ],
   "source": [
    "t = int(input())\n",
    "\n",
    "for _ in range(t):\n",
    "    n = bin(int(input()))[2:] # ob0101이런식으로 나오기 출력되기 때문에 [2:]로 앞에 ob를 제거\n",
    "    for i in range(len(n)):\n",
    "        if n[-i-1] == '1': # 이진수는 뒤에서 부터 읽으니까\n",
    "            print(i, end = ' ')"
   ]
  },
  {
   "cell_type": "markdown",
   "id": "aec7510d",
   "metadata": {},
   "source": [
    "# (백준2349) 무선 통신 기지국"
   ]
  },
  {
   "cell_type": "code",
   "execution_count": 86,
   "id": "82c8c0d1",
   "metadata": {},
   "outputs": [
    {
     "name": "stdout",
     "output_type": "stream",
     "text": [
      "5\n",
      "0 0\n",
      "5 7.5\n",
      "1 -3\n",
      "10.75 -20.1\n",
      "12.01 -22\n",
      "[9.013878188659973, 3.1622776601683795, 11.236102527122116, 22.794133017072618, 28.192596545901907, 19.68432117193783, 25.064718231011494, 30.32144620561493, 21.959510468132024, 2.2798245546532727]\n",
      "0\n"
     ]
    }
   ],
   "source": [
    "import math\n",
    "point = []\n",
    "n = int(input())\n",
    "for _ in range(n):\n",
    "    x, y = map(float, input().split())\n",
    "    point.append([x, y])\n",
    "    \n",
    "\n",
    "n_list = []\n",
    "count = 0\n",
    "for i in range(len(point)):\n",
    "    for j in range(i):\n",
    "        a = point[j][0] - point[i][0]\n",
    "        b = point[j][1] - point[i][1]\n",
    "        n_list.append(math.sqrt((a * a) + (b * b)))\n",
    "\n",
    "print(n_list)\n",
    "print(count)"
   ]
  },
  {
   "cell_type": "markdown",
   "id": "04643b79",
   "metadata": {},
   "source": [
    "# (백준 1259) 팰린드롬수"
   ]
  },
  {
   "cell_type": "code",
   "execution_count": 105,
   "id": "d7f46d19",
   "metadata": {},
   "outputs": [],
   "source": [
    "while(n != '0'):\n",
    "    n = input()\n",
    "    print(n)"
   ]
  },
  {
   "cell_type": "code",
   "execution_count": null,
   "id": "8e598623",
   "metadata": {},
   "outputs": [],
   "source": []
  },
  {
   "cell_type": "code",
   "execution_count": null,
   "id": "98b7a135",
   "metadata": {},
   "outputs": [],
   "source": []
  },
  {
   "cell_type": "code",
   "execution_count": null,
   "id": "6905a061",
   "metadata": {},
   "outputs": [],
   "source": []
  },
  {
   "cell_type": "code",
   "execution_count": null,
   "id": "40fac486",
   "metadata": {},
   "outputs": [],
   "source": []
  },
  {
   "cell_type": "code",
   "execution_count": null,
   "id": "58491639",
   "metadata": {},
   "outputs": [],
   "source": []
  },
  {
   "cell_type": "code",
   "execution_count": null,
   "id": "fd477661",
   "metadata": {},
   "outputs": [],
   "source": []
  },
  {
   "cell_type": "code",
   "execution_count": null,
   "id": "b9c9f4e5",
   "metadata": {},
   "outputs": [],
   "source": []
  },
  {
   "cell_type": "code",
   "execution_count": null,
   "id": "98b38ce1",
   "metadata": {},
   "outputs": [],
   "source": []
  },
  {
   "cell_type": "code",
   "execution_count": null,
   "id": "d665f1b6",
   "metadata": {},
   "outputs": [],
   "source": []
  },
  {
   "cell_type": "code",
   "execution_count": null,
   "id": "69a65446",
   "metadata": {},
   "outputs": [],
   "source": []
  },
  {
   "cell_type": "code",
   "execution_count": null,
   "id": "39e93427",
   "metadata": {},
   "outputs": [],
   "source": []
  },
  {
   "cell_type": "code",
   "execution_count": null,
   "id": "c5cedd78",
   "metadata": {},
   "outputs": [],
   "source": []
  },
  {
   "cell_type": "code",
   "execution_count": null,
   "id": "96fcfb9e",
   "metadata": {},
   "outputs": [],
   "source": []
  },
  {
   "cell_type": "code",
   "execution_count": null,
   "id": "129e7aae",
   "metadata": {},
   "outputs": [],
   "source": []
  },
  {
   "cell_type": "code",
   "execution_count": null,
   "id": "297931b4",
   "metadata": {},
   "outputs": [],
   "source": []
  },
  {
   "cell_type": "code",
   "execution_count": null,
   "id": "d9906102",
   "metadata": {},
   "outputs": [],
   "source": []
  },
  {
   "cell_type": "code",
   "execution_count": null,
   "id": "ae14e3aa",
   "metadata": {},
   "outputs": [],
   "source": []
  },
  {
   "cell_type": "code",
   "execution_count": null,
   "id": "2903b137",
   "metadata": {},
   "outputs": [],
   "source": []
  },
  {
   "cell_type": "code",
   "execution_count": null,
   "id": "170d9196",
   "metadata": {},
   "outputs": [],
   "source": []
  }
 ],
 "metadata": {
  "kernelspec": {
   "display_name": "Python 3 (ipykernel)",
   "language": "python",
   "name": "python3"
  },
  "language_info": {
   "codemirror_mode": {
    "name": "ipython",
    "version": 3
   },
   "file_extension": ".py",
   "mimetype": "text/x-python",
   "name": "python",
   "nbconvert_exporter": "python",
   "pygments_lexer": "ipython3",
   "version": "3.9.12"
  }
 },
 "nbformat": 4,
 "nbformat_minor": 5
}
