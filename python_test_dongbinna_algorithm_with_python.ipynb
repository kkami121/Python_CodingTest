{
 "cells": [
  {
   "cell_type": "markdown",
   "id": "a84f23c3",
   "metadata": {},
   "source": [
    "# 거스름돈\n",
    " - n : 주어진 거스름 돈\n",
    " \n",
    " 동전으로 거스름 돈을 걸려줄 때 최소가 되는 동전의 개수 구하기"
   ]
  },
  {
   "cell_type": "code",
   "execution_count": 2,
   "id": "e6011a4d",
   "metadata": {},
   "outputs": [
    {
     "name": "stdout",
     "output_type": "stream",
     "text": [
      "6\n"
     ]
    }
   ],
   "source": [
    "n = 1260\n",
    "count = 0\n",
    "\n",
    "array = [500, 100, 50, 10]\n",
    "\n",
    "for coin in array:\n",
    "    count += n // coin # 동전 별 몫을 통해 개수를 count\n",
    "    n %= coin # 거스름 돈인 n을 개수를 count한 coin 만큼 제외\n",
    "\n",
    "print(count)"
   ]
  },
  {
   "cell_type": "markdown",
   "id": "c03185c6",
   "metadata": {},
   "source": [
    "# 1일 될 때까지 \n",
    " - N에서 1을 뺀다.\n",
    " - N을 K로 나눈다.\n",
    " - 두 과정을 이용하여 N이 1일 될 때까지 두 과정을 수행해야 하는 최소 횟수 프로그램\n",
    " - 나누기를 최대한 많이 해야 최소 횟수 가능!!"
   ]
  },
  {
   "cell_type": "code",
   "execution_count": 4,
   "id": "3ca02322",
   "metadata": {},
   "outputs": [
    {
     "name": "stdout",
     "output_type": "stream",
     "text": [
      "17 4\n",
      "3\n"
     ]
    }
   ],
   "source": [
    "# 내 풀이\n",
    "def fucn(n, k):\n",
    "    count = 0\n",
    "    while(n != 1):\n",
    "        if n % k == 0:\n",
    "            n = n / k\n",
    "            count += 1\n",
    "        else:\n",
    "            n = n - 1\n",
    "            count += 1\n",
    "    return count\n",
    "    \n",
    "a, b = map(int, input().split())\n",
    "\n",
    "print(fucn(a, b))"
   ]
  },
  {
   "cell_type": "code",
   "execution_count": 80,
   "id": "0fb94c9d",
   "metadata": {},
   "outputs": [
    {
     "name": "stdout",
     "output_type": "stream",
     "text": [
      "25 5\n",
      "2\n"
     ]
    }
   ],
   "source": [
    "# 동비나 풀이\n",
    "n, k = map(int, input().split())\n",
    "\n",
    "result = 0 # 최종 횟수 초기화\n",
    "\n",
    "while (n != 1):\n",
    "    \n",
    "    target = (n // k) * k # n이 k로 나누워 떨어질 수 있는 가장 가까운 값을 구하는 공식\n",
    "    result += (n - target) # n-1에 대한 횟수를 count 어파치 target으로 나누어 지지 않으면 나누어 질 때 까지 빼야 하니까 그 값을 한번에 계산\n",
    "    n = target\n",
    "        \n",
    "    \n",
    "    n //= k # k로 나누어 떨어지도록 n을 target으로 변경 했기 때문에 나누어 주면서 result의 값을 count\n",
    "    result += 1 \n",
    "    \n",
    "print(result)"
   ]
  },
  {
   "cell_type": "markdown",
   "id": "2222c62d",
   "metadata": {},
   "source": [
    "# 곱하기 혹은 더하기\n",
    " - 0부터 9까지 숫자로 이루어진 문자열 S가 주어 질 때, 왼쪽부터 오른쪽으로 +, * 연산자를 넣어 만들어 질 수 있는 가장 큰수를 구하는 프로그램\n",
    " - 0, 1은 곱해봐야 0이되거나 그대로 이기 때문에 0, 1은 더하고 나머지는 곱해야함"
   ]
  },
  {
   "cell_type": "code",
   "execution_count": 41,
   "id": "e31b28eb",
   "metadata": {},
   "outputs": [
    {
     "name": "stdout",
     "output_type": "stream",
     "text": [
      "02984\n",
      "576\n"
     ]
    }
   ],
   "source": [
    "s = input()\n",
    "\n",
    "result = int(s[0]) # 첫 번재 값 초기화\n",
    "\n",
    "for i in range(1, len(s)):    \n",
    "    num = int(s[i]) # 두 번째 값 부터 \n",
    "\n",
    "    if result <= 1 or num <= 1: # 0, 1인 경우 초기값에 더하기 \n",
    "        result += num\n",
    "    else: # 그 외 경우 곱하기\n",
    "        result *= num\n",
    "\n",
    "print(result)"
   ]
  },
  {
   "cell_type": "markdown",
   "id": "1908aabb",
   "metadata": {},
   "source": [
    "# 모험가 길드\n",
    " - N명의 모험가 중 공포도가 X이상인 모험가는 X명 이상으로 구성한 그룹에 참여 해야한다.\n",
    " - 만들 수 있는 최대 그룹 수를 구하시오."
   ]
  },
  {
   "cell_type": "code",
   "execution_count": 48,
   "id": "280720e0",
   "metadata": {},
   "outputs": [
    {
     "name": "stdout",
     "output_type": "stream",
     "text": [
      "모험가의 수 : 5\n",
      "2 1 3 2 2 \n",
      "2\n"
     ]
    }
   ],
   "source": [
    "n = int(input(\"모험가의 수 : \"))\n",
    "n_list = list(map(int, input().split())) #공포도 리스트\n",
    "n_list.sort()\n",
    "\n",
    "result = 0 # 총 그룹의 수 \n",
    "count = 0 # 현재 그룹에 포함된 모험가의 수 \n",
    "\n",
    "for i in n_list:\n",
    "    count += 1 # 일단 카운트\n",
    "    if count >= i: \n",
    "        result += 1\n",
    "        count = 0\n",
    "        \n",
    "print(result)"
   ]
  },
  {
   "cell_type": "markdown",
   "id": "3c203fed",
   "metadata": {},
   "source": [
    "# 상하좌우 문제 - N x N 공간에서 주어진 이동 계획에 따라 이동 후 도착 좌표 출력\n",
    " - 시작은 (1, 1)\n",
    " - 위치를 벗어나는 이동은 무시된다\n",
    " - L : 왼쪽으로 한칸\n",
    " - R : 오른쪽으로 한칸\n",
    " - U : 위로 한칸\n",
    " - D : 아래로 한칸"
   ]
  },
  {
   "cell_type": "code",
   "execution_count": 52,
   "id": "26ccff92",
   "metadata": {},
   "outputs": [
    {
     "name": "stdout",
     "output_type": "stream",
     "text": [
      "5\n",
      "L R D D\n",
      "1 2\n"
     ]
    }
   ],
   "source": [
    "n = int(input())\n",
    "plans = input().split() # 문자열 받으면 리스트로 저장되는 듯\n",
    "\n",
    "x, y = 1, 1 # 시작 위치\n",
    "    \n",
    "    # L, R, U, D\n",
    "dx = [0, 0, 1, -1]\n",
    "dy = [-1, 1, 0, 0]\n",
    "\n",
    "move_list = ['L', 'R', 'U', 'D']\n",
    "\n",
    "for i in plans:\n",
    "    for j in range(len(move_list)):\n",
    "        if i == move_list[j]:\n",
    "            nx = x + dx[j]\n",
    "            ny = y + dy[j]\n",
    "    \n",
    "    if nx < 1 or ny < 1 or nx > n or ny > n:\n",
    "        continue\n",
    "    \n",
    "    x, y, = nx, ny\n",
    "\n",
    "print(x, y)"
   ]
  },
  {
   "cell_type": "markdown",
   "id": "704a167d",
   "metadata": {},
   "source": [
    "# 시간\n",
    " - 00시 00분 00초 부터 N시 59분 59초까지의 모든 시간 중에 3이 포함되어 있는 경우의 수를 구하는 프로그램"
   ]
  },
  {
   "cell_type": "code",
   "execution_count": 56,
   "id": "09e6099d",
   "metadata": {},
   "outputs": [
    {
     "name": "stdout",
     "output_type": "stream",
     "text": [
      "5\n",
      "11475\n"
     ]
    }
   ],
   "source": [
    "n = int(input())\n",
    "\n",
    "count = 0\n",
    "\n",
    "for i in range(n + 1):\n",
    "    for j in range(60):\n",
    "        for k in range(60):\n",
    "            # 매 시각 안에 '3'이 포함되어 있다면 count\n",
    "            if '3' in str(i) + str(j) + str(k):\n",
    "                count += 1\n",
    "print(count)"
   ]
  },
  {
   "cell_type": "markdown",
   "id": "d6f9f49d",
   "metadata": {},
   "source": [
    "# 왕실의 나이트 \n",
    " - 체스판은 8 x 8\n",
    " - 나이트는 L자 형태로 이동 \n",
    " - 체스판 밖으로는 이동하지 못함\n",
    " - 나이트는 수평으로 두칸 이동 후 수직 한칸 or 수직으로 두칸 이동 후 수평으로 한칸 이동 가능\n",
    " - 행은 1 ~ 8, 열은 a ~ h\n",
    " - 현재 위치가 주어질 때 이동 할 수 있는 경우의 수를 구하시오"
   ]
  },
  {
   "cell_type": "code",
   "execution_count": 59,
   "id": "63277a54",
   "metadata": {},
   "outputs": [
    {
     "name": "stdout",
     "output_type": "stream",
     "text": [
      "a1\n",
      "2\n"
     ]
    }
   ],
   "source": [
    "n = input() # 입력 받기\n",
    "row = int(n[1]) # a1을 입력 받으면 1을 int로\n",
    "column = int(ord(n[0])) - int(ord('a')) + 1 # 아스키코드를 통해 int로 변경 Ex) a - a + 1로 a의 위치는 1\n",
    "move_list = [(-2, -1), (-2, 1), (-1, -2), (-1, 2), (1, -2), (1, 2), (2, -1), (2, 1)]\n",
    "result = 0\n",
    "\n",
    "for i in move_list:\n",
    "    next_row = row + i[0]\n",
    "    next_column = column + i[1]\n",
    "    \n",
    "    if next_row >= 1 and next_row <= 8 and next_column >= 1 and next_column <= 8:\n",
    "        result += 1\n",
    "print(result)"
   ]
  },
  {
   "cell_type": "markdown",
   "id": "752fd52a",
   "metadata": {},
   "source": [
    "# 문자열 재정렬\n",
    " - 숫자와 문자가 혼합된 문자열을 받아 문자는 오름차순으로 숫자는 더해서 맨뒤에 출력하는 프로그램"
   ]
  },
  {
   "cell_type": "code",
   "execution_count": 79,
   "id": "86f701c0",
   "metadata": {},
   "outputs": [
    {
     "name": "stdout",
     "output_type": "stream",
     "text": [
      "K1KA5CB7\n",
      "K\n",
      "1\n",
      "K\n",
      "A\n",
      "5\n",
      "C\n",
      "B\n",
      "7\n",
      "ABCKK13\n"
     ]
    }
   ],
   "source": [
    "n = input() # 입력\n",
    "n_sum = 0 # 숫자 더할 거 초기화\n",
    "result = [] # 문자열 정렬 할 거 초기화\n",
    "\n",
    "for i in n:\n",
    "    if int(ord(i)) >= 48 and int(ord(i)) <= 57: # 아스키 코드 이용해서 숫자 판별\n",
    "        i = int(i)\n",
    "        n_sum += i\n",
    "    else:\n",
    "        result += i\n",
    "\n",
    "result.sort()\n",
    "result.append(str(n_sum))\n",
    "\n",
    "print(\"\".join(result)) # join 하려면 n_sum을 str로 "
   ]
  },
  {
   "cell_type": "markdown",
   "id": "27998e98",
   "metadata": {},
   "source": [
    "# 팩토리얼 연습"
   ]
  },
  {
   "cell_type": "code",
   "execution_count": 85,
   "id": "f7e1a27c",
   "metadata": {},
   "outputs": [
    {
     "name": "stdout",
     "output_type": "stream",
     "text": [
      "120\n",
      "120\n"
     ]
    }
   ],
   "source": [
    "# 반복문 이용\n",
    "def fact(n):\n",
    "    result = 1\n",
    "    for i in range(1, n + 1): # range(1, n)이면 n 전까지\n",
    "        result *= i\n",
    "    return result\n",
    "print(fact(5))\n",
    "\n",
    "# 재귀함수로 구현\n",
    "def fact_1(n):\n",
    "    if n <= 1:\n",
    "        return 1\n",
    "    else:\n",
    "        return n * fact_1(n - 1)\n",
    "print(fact_1(5))"
   ]
  },
  {
   "cell_type": "markdown",
   "id": "155e9f48",
   "metadata": {},
   "source": [
    "# 최대공약수(재귀함수 사용)"
   ]
  },
  {
   "cell_type": "code",
   "execution_count": 87,
   "id": "2113ee1b",
   "metadata": {},
   "outputs": [
    {
     "name": "stdout",
     "output_type": "stream",
     "text": [
      "6 15\n",
      "3\n"
     ]
    }
   ],
   "source": [
    "a, b = map(int, input().split())\n",
    "\n",
    "def gcd(a, b):\n",
    "    if a % b == 0:\n",
    "        return b\n",
    "    else:\n",
    "        return gcd(b, a % b)\n",
    "    \n",
    "print(gcd(a, b))"
   ]
  },
  {
   "cell_type": "markdown",
   "id": "de18348d",
   "metadata": {},
   "source": [
    "# DFS 예제 (재귀함수 사용) \n",
    " - 깊이 우선 탐색\n",
    " - DFS는 스택 자료구조를 사용"
   ]
  },
  {
   "cell_type": "code",
   "execution_count": 121,
   "id": "f247a8bb",
   "metadata": {},
   "outputs": [
    {
     "name": "stdout",
     "output_type": "stream",
     "text": [
      "1 [1, 7]\n",
      "2 [2, 6, 8]\n",
      "7 [7]\n",
      "6 [1, 7]\n",
      "8 [1, 4, 5]\n",
      "3 [3, 5]\n",
      "4 [3, 4]\n",
      "5 "
     ]
    }
   ],
   "source": [
    "def dfs(graph, v, visited):\n",
    "    \n",
    "    visited[v] = True # 현재 노드 방문 처리\n",
    "    print(v, end = ' ')\n",
    "    \n",
    "    for i in graph[v]:\n",
    "        if not visited[i]:\n",
    "            dfs(graph, i, visited)\n",
    "\n",
    "graph = [\n",
    "    [],\n",
    "    [2, 3, 8], # 1번 노드, 접근할 수 있는 노드 번호를 가지고 잇음\n",
    "    [1, 7], #2번 노드...\n",
    "    [1, 4, 5],\n",
    "    [3, 5],\n",
    "    [3, 4],\n",
    "    [7], \n",
    "    [2, 6, 8], \n",
    "    [1, 7]\n",
    "]\n",
    "\n",
    "visited = [False] * len(graph) #각 노드가 방문된 정보를 표현\n",
    "\n",
    "dfs(graph, 1, visited)"
   ]
  },
  {
   "cell_type": "markdown",
   "id": "e9aae223",
   "metadata": {},
   "source": [
    "# BFS 예제\n",
    " - 너비 우선 탐색\n",
    " - BFS는 큐 자료구조를 사용"
   ]
  },
  {
   "cell_type": "code",
   "execution_count": 120,
   "id": "5c0e0dcd",
   "metadata": {},
   "outputs": [
    {
     "name": "stdout",
     "output_type": "stream",
     "text": [
      "deque([1])\n",
      "1 deque([2, 3, 8])\n",
      "2 deque([3, 8, 7])\n",
      "3 deque([8, 7, 4, 5])\n",
      "8 deque([7, 4, 5])\n",
      "7 deque([4, 5, 6])\n",
      "4 deque([5, 6])\n",
      "5 deque([6])\n",
      "6 "
     ]
    }
   ],
   "source": [
    "from collections import deque # 큐 사용하는 라이브러리\n",
    "\n",
    "def bfs(graph, start, visited):\n",
    "    queue = deque([start])\n",
    "    visited[start] = True\n",
    "    \n",
    "    while queue:\n",
    "        print(queue)\n",
    "        v = queue.popleft()\n",
    "        print(v, end = ' ')\n",
    "        \n",
    "        for i in graph[v]:\n",
    "            if not visited[i]:\n",
    "                queue.append(i)\n",
    "                visited[i] = True\n",
    "                \n",
    "graph = [\n",
    "    [],\n",
    "    [2, 3, 8], # 1번 노드, 접근할 수 있는 노드 번호를 가지고 잇음\n",
    "    [1, 7], #2번 노드...\n",
    "    [1, 4, 5],\n",
    "    [3, 5],\n",
    "    [3, 4],\n",
    "    [7], \n",
    "    [2, 6, 8], \n",
    "    [1, 7]\n",
    "]\n",
    "\n",
    "visited = [False] * len(graph) #각 노드가 방문된 정보를 표현\n",
    "\n",
    "bfs(graph, 1, visited)"
   ]
  },
  {
   "cell_type": "markdown",
   "id": "290f9419",
   "metadata": {},
   "source": [
    "# 음료수 얼려 먹기"
   ]
  },
  {
   "cell_type": "code",
   "execution_count": 122,
   "id": "0602a2a5",
   "metadata": {},
   "outputs": [
    {
     "name": "stdout",
     "output_type": "stream",
     "text": [
      "3 3\n",
      "101\n",
      "111\n",
      "001\n",
      "2\n"
     ]
    }
   ],
   "source": [
    "# N, M을 공백을 기준으로 구분하여 입력 받기\n",
    "n, m = map(int, input().split())\n",
    "\n",
    "# 2차원 리스트의 맵 정보 입력 받기\n",
    "graph = []\n",
    "for i in range(n):\n",
    "    graph.append(list(map(int, input())))\n",
    "\n",
    "# DFS로 특정한 노드를 방문한 뒤에 연결된 모든 노드들도 방문\n",
    "def dfs(x, y):\n",
    "    # 주어진 범위를 벗어나는 경우에는 즉시 종료\n",
    "    if x <= -1 or x >= n or y <= -1 or y >= m:\n",
    "        return False\n",
    "    # 현재 노드를 아직 방문하지 않았다면\n",
    "    if graph[x][y] == 0:\n",
    "        # 해당 노드 방문 처리\n",
    "        graph[x][y] = 1\n",
    "        # 상, 하, 좌, 우의 위치들도 모두 재귀적으로 호출\n",
    "        dfs(x - 1, y)\n",
    "        dfs(x, y - 1)\n",
    "        dfs(x + 1, y)\n",
    "        dfs(x, y + 1)\n",
    "        return True\n",
    "    return False\n",
    "\n",
    "# 모든 노드(위치)에 대하여 음료수 채우기\n",
    "result = 0\n",
    "for i in range(n):\n",
    "    for j in range(m):\n",
    "        # 현재 위치에서 DFS 수행\n",
    "        if dfs(i, j) == True:\n",
    "            result += 1\n",
    "\n",
    "print(result) # 정답 출력"
   ]
  },
  {
   "cell_type": "markdown",
   "id": "c4fa3556",
   "metadata": {},
   "source": [
    "# 미로 탈출 "
   ]
  },
  {
   "cell_type": "code",
   "execution_count": 127,
   "id": "f5df6ea2",
   "metadata": {},
   "outputs": [
    {
     "name": "stdout",
     "output_type": "stream",
     "text": [
      "5 6\n",
      "101010\n",
      "111111\n",
      "000001\n",
      "111111\n",
      "111111\n",
      "\n",
      "0 0\n",
      "\n",
      "1\n",
      "\n",
      "2\n",
      "\n",
      "deque([(1, 0)])\n",
      "\n",
      "\n",
      "1 0\n",
      "\n",
      "2\n",
      "\n",
      "3\n",
      "\n",
      "deque([(0, 0)])\n",
      "\n",
      "\n",
      "1 0\n",
      "\n",
      "2\n",
      "\n",
      "3\n",
      "\n",
      "deque([(0, 0), (1, 1)])\n",
      "\n",
      "\n",
      "1 1\n",
      "\n",
      "3\n",
      "\n",
      "4\n",
      "\n",
      "deque([(1, 2)])\n",
      "\n",
      "\n",
      "1 2\n",
      "\n",
      "4\n",
      "\n",
      "5\n",
      "\n",
      "deque([(0, 2)])\n",
      "\n",
      "\n",
      "1 2\n",
      "\n",
      "4\n",
      "\n",
      "5\n",
      "\n",
      "deque([(0, 2), (1, 3)])\n",
      "\n",
      "\n",
      "1 3\n",
      "\n",
      "5\n",
      "\n",
      "6\n",
      "\n",
      "deque([(1, 4)])\n",
      "\n",
      "\n",
      "1 4\n",
      "\n",
      "6\n",
      "\n",
      "7\n",
      "\n",
      "deque([(0, 4)])\n",
      "\n",
      "\n",
      "1 4\n",
      "\n",
      "6\n",
      "\n",
      "7\n",
      "\n",
      "deque([(0, 4), (1, 5)])\n",
      "\n",
      "\n",
      "1 5\n",
      "\n",
      "7\n",
      "\n",
      "8\n",
      "\n",
      "deque([(2, 5)])\n",
      "\n",
      "\n",
      "2 5\n",
      "\n",
      "8\n",
      "\n",
      "9\n",
      "\n",
      "deque([(3, 5)])\n",
      "\n",
      "\n",
      "3 5\n",
      "\n",
      "9\n",
      "\n",
      "10\n",
      "\n",
      "deque([(4, 5)])\n",
      "\n",
      "\n",
      "3 5\n",
      "\n",
      "9\n",
      "\n",
      "10\n",
      "\n",
      "deque([(4, 5), (3, 4)])\n",
      "\n",
      "\n",
      "4 5\n",
      "\n",
      "10\n",
      "\n",
      "11\n",
      "\n",
      "deque([(3, 4), (4, 4)])\n",
      "\n",
      "\n",
      "3 4\n",
      "\n",
      "10\n",
      "\n",
      "11\n",
      "\n",
      "deque([(4, 4), (3, 3)])\n",
      "\n",
      "\n",
      "4 4\n",
      "\n",
      "11\n",
      "\n",
      "12\n",
      "\n",
      "deque([(3, 3), (4, 3)])\n",
      "\n",
      "\n",
      "3 3\n",
      "\n",
      "11\n",
      "\n",
      "12\n",
      "\n",
      "deque([(4, 3), (3, 2)])\n",
      "\n",
      "\n",
      "4 3\n",
      "\n",
      "12\n",
      "\n",
      "13\n",
      "\n",
      "deque([(3, 2), (4, 2)])\n",
      "\n",
      "\n",
      "3 2\n",
      "\n",
      "12\n",
      "\n",
      "13\n",
      "\n",
      "deque([(4, 2), (3, 1)])\n",
      "\n",
      "\n",
      "4 2\n",
      "\n",
      "13\n",
      "\n",
      "14\n",
      "\n",
      "deque([(3, 1), (4, 1)])\n",
      "\n",
      "\n",
      "3 1\n",
      "\n",
      "13\n",
      "\n",
      "14\n",
      "\n",
      "deque([(4, 1), (3, 0)])\n",
      "\n",
      "\n",
      "4 1\n",
      "\n",
      "14\n",
      "\n",
      "15\n",
      "\n",
      "deque([(3, 0), (4, 0)])\n",
      "\n",
      "10\n"
     ]
    }
   ],
   "source": [
    "from collections import deque\n",
    "\n",
    "# N, M을 공백을 기준으로 구분하여 입력 받기\n",
    "n, m = map(int, input().split())\n",
    "# 2차원 리스트의 맵 정보 입력 받기\n",
    "graph = []\n",
    "for i in range(n):\n",
    "    graph.append(list(map(int, input())))\n",
    "\n",
    "# 이동할 네 가지 방향 정의 (상, 하, 좌, 우)\n",
    "dx = [-1, 1, 0, 0]\n",
    "dy = [0, 0, -1, 1]\n",
    "\n",
    "# BFS 소스코드 구현\n",
    "def bfs(x, y):\n",
    "    # 큐(Queue) 구현을 위해 deque 라이브러리 사용\n",
    "    queue = deque()\n",
    "    queue.append((x, y))\n",
    "    # 큐가 빌 때까지 반복하기\n",
    "    while queue:\n",
    "        x, y = queue.popleft()\n",
    "        # 현재 위치에서 4가지 방향으로의 위치 확인\n",
    "        for i in range(4):\n",
    "            nx = x + dx[i]\n",
    "            ny = y + dy[i]\n",
    "        \n",
    "            # 미로 찾기 공간을 벗어난 경우 무시\n",
    "            if nx < 0 or nx >= n or ny < 0 or ny >= m:\n",
    "                continue\n",
    "            # 벽인 경우 무시\n",
    "            if graph[nx][ny] == 0:\n",
    "                continue\n",
    "            # 해당 노드를 처음 방문하는 경우에만 최단 거리 기록\n",
    "            if graph[nx][ny] == 1:\n",
    "                print()\n",
    "                print(x, y)\n",
    "                print()\n",
    "                print(graph[x][y])\n",
    "                print()\n",
    "                graph[nx][ny] = graph[x][y] + 1\n",
    "                print(graph[nx][ny])\n",
    "                print()\n",
    "                queue.append((nx, ny))\n",
    "                print(queue)\n",
    "                print()\n",
    "    # 가장 오른쪽 아래까지의 최단 거리 반환\n",
    "    return graph[n - 1][m - 1]\n",
    "\n",
    "# BFS를 수행한 결과 출력\n",
    "print(bfs(0, 0))"
   ]
  },
  {
   "cell_type": "code",
   "execution_count": null,
   "id": "fa0b6c21",
   "metadata": {},
   "outputs": [],
   "source": []
  },
  {
   "cell_type": "code",
   "execution_count": null,
   "id": "b02aba44",
   "metadata": {},
   "outputs": [],
   "source": []
  },
  {
   "cell_type": "code",
   "execution_count": null,
   "id": "ad802283",
   "metadata": {},
   "outputs": [],
   "source": []
  },
  {
   "cell_type": "code",
   "execution_count": null,
   "id": "85f77756",
   "metadata": {},
   "outputs": [],
   "source": []
  },
  {
   "cell_type": "code",
   "execution_count": null,
   "id": "e64b1436",
   "metadata": {},
   "outputs": [],
   "source": []
  },
  {
   "cell_type": "code",
   "execution_count": null,
   "id": "97845095",
   "metadata": {},
   "outputs": [],
   "source": []
  },
  {
   "cell_type": "code",
   "execution_count": null,
   "id": "c530dc9c",
   "metadata": {},
   "outputs": [],
   "source": []
  },
  {
   "cell_type": "code",
   "execution_count": null,
   "id": "8a6777ff",
   "metadata": {},
   "outputs": [],
   "source": []
  },
  {
   "cell_type": "code",
   "execution_count": null,
   "id": "c488991f",
   "metadata": {},
   "outputs": [],
   "source": []
  },
  {
   "cell_type": "code",
   "execution_count": null,
   "id": "24917872",
   "metadata": {},
   "outputs": [],
   "source": []
  },
  {
   "cell_type": "code",
   "execution_count": null,
   "id": "7b55df34",
   "metadata": {},
   "outputs": [],
   "source": []
  }
 ],
 "metadata": {
  "kernelspec": {
   "display_name": "Python 3 (ipykernel)",
   "language": "python",
   "name": "python3"
  },
  "language_info": {
   "codemirror_mode": {
    "name": "ipython",
    "version": 3
   },
   "file_extension": ".py",
   "mimetype": "text/x-python",
   "name": "python",
   "nbconvert_exporter": "python",
   "pygments_lexer": "ipython3",
   "version": "3.9.12"
  }
 },
 "nbformat": 4,
 "nbformat_minor": 5
}
