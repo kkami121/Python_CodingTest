{
 "cells": [
  {
   "cell_type": "markdown",
   "id": "f3ad1d00",
   "metadata": {},
   "source": [
    "# (프로그래머스 Lv.1) 신고 결과 받기"
   ]
  },
  {
   "cell_type": "code",
   "execution_count": 14,
   "id": "09e6920e",
   "metadata": {},
   "outputs": [
    {
     "data": {
      "text/plain": [
       "[2, 1, 1, 0]"
      ]
     },
     "execution_count": 14,
     "metadata": {},
     "output_type": "execute_result"
    }
   ],
   "source": [
    "def solution(id_list, report, k):\n",
    "    answer = [0] * len(id_list) # answer을 id_list의 크기 만큼 초기화\n",
    "    reports = {x : 0 for x in id_list} # {'muzi': 0, 'frodo': 0, 'apeach': 0, 'neo': 0} 같은 모양으로 초기화\n",
    "\n",
    "    for i in set(report):\n",
    "        reports[i.split()[1]] += 1\n",
    "        \n",
    "    for i in set(report): # set은 중복을 허용하지 않음!!!!!!!\n",
    "        if reports[i.split()[1]] >= k:\n",
    "            answer[id_list.index(i.split()[0])] += 1\n",
    "\n",
    "    return answer\n",
    "\n",
    "id_list = [\"muzi\", \"frodo\", \"apeach\", \"neo\"]\n",
    "report = [\"muzi frodo\", \"apeach frodo\", \"frodo neo\", \"muzi neo\", \"apeach muzi\"]\n",
    "k = 2\n",
    "\n",
    "solution(id_list, report, k)"
   ]
  },
  {
   "cell_type": "code",
   "execution_count": 3,
   "id": "3288522c",
   "metadata": {},
   "outputs": [
    {
     "name": "stdout",
     "output_type": "stream",
     "text": [
      "{'muzi': 0, 'frodo': 0, 'apeach': 0, 'neo': 0}\n"
     ]
    }
   ],
   "source": [
    "report = [{x : 0 for x in id_list}]\n",
    "print(reports)"
   ]
  },
  {
   "cell_type": "code",
   "execution_count": 13,
   "id": "47bbe65a",
   "metadata": {},
   "outputs": [
    {
     "name": "stdout",
     "output_type": "stream",
     "text": [
      "muzi frodo\n"
     ]
    }
   ],
   "source": [
    "id_list = [\"muzi\", \"frodo\", \"apeach\", \"neo\"]\n",
    "report = [\"muzi frodo\", \"apeach frodo\", \"frodo neo\", \"muzi neo\", \"apeach muzi\"]\n",
    "k = 2\n",
    "p"
   ]
  },
  {
   "cell_type": "code",
   "execution_count": null,
   "id": "9947fd60",
   "metadata": {},
   "outputs": [],
   "source": [
    "    for r in set(report):\n",
    "        reports[r.split()[1]] += 1 # r.split을 사용하여 공백을 나누고 r.split()[1]을 이용하여 신고를 당한 id의 count를 증가\n",
    "\n",
    "    for r in set(report):\n",
    "        if reports[r.split()[1]] >= k: #신고 당한 id의 count k이상일 때\n",
    "            answer[id_list.index(r.split()[0])] += 1 #id_list의 신고한 id에게 보내야 하는 결과 메일 횟수를 count\n"
   ]
  }
 ],
 "metadata": {
  "kernelspec": {
   "display_name": "Python 3.9.7 64-bit",
   "language": "python",
   "name": "python3"
  },
  "language_info": {
   "codemirror_mode": {
    "name": "ipython",
    "version": 3
   },
   "file_extension": ".py",
   "mimetype": "text/x-python",
   "name": "python",
   "nbconvert_exporter": "python",
   "pygments_lexer": "ipython3",
   "version": "3.9.7"
  },
  "vscode": {
   "interpreter": {
    "hash": "aee8b7b246df8f9039afb4144a1f6fd8d2ca17a180786b69acc140d282b71a49"
   }
  }
 },
 "nbformat": 4,
 "nbformat_minor": 5
}
